{
 "cells": [
  {
   "cell_type": "code",
   "execution_count": 17,
   "id": "b88e6b26-b17e-469a-b04f-6720f1b7c05d",
   "metadata": {},
   "outputs": [
    {
     "data": {
      "text/plain": [
       "array([[ 1,  2,  3,  4],\n",
       "       [ 5,  6,  7,  8],\n",
       "       [ 9, 10, 11, 12],\n",
       "       [13, 14, 15, 16]])"
      ]
     },
     "execution_count": 17,
     "metadata": {},
     "output_type": "execute_result"
    }
   ],
   "source": [
    "#1. Create a 2D array of shape (4, 4) with numbers from 1 to 16 and display the first two rows.\n",
    "import numpy as np\n",
    "arr = np.arange(1,17).reshape(4,4)\n",
    "arr"
   ]
  },
  {
   "cell_type": "code",
   "execution_count": 21,
   "id": "2e853303-0a41-406b-8fa2-6fdac41a8448",
   "metadata": {},
   "outputs": [
    {
     "data": {
      "text/plain": [
       "45"
      ]
     },
     "execution_count": 21,
     "metadata": {},
     "output_type": "execute_result"
    }
   ],
   "source": [
    "#2. Create a NumPy array of integers from 1 to 10, and find the sum of all elements.\n",
    "arr1 = np.arange(1,10)\n",
    "arr1\n",
    "np.sum(arr1)"
   ]
  },
  {
   "cell_type": "code",
   "execution_count": 27,
   "id": "9a1120d4-84ad-4364-af73-3cabe61b47c0",
   "metadata": {},
   "outputs": [
    {
     "data": {
      "text/plain": [
       "array([42, 95, 78,  6, 86, 91, 85, 97, 44, 96, 51, 71, 12, 85, 68, 54, 51,\n",
       "       41, 31, 40])"
      ]
     },
     "execution_count": 27,
     "metadata": {},
     "output_type": "execute_result"
    }
   ],
   "source": [
    "#3. Create an array of 20 random integers ranging from 0 to 100.\n",
    "arr2 = np.random.randint(1,100,20)\n",
    "arr2                "
   ]
  },
  {
   "cell_type": "code",
   "execution_count": 39,
   "id": "ae7a07af-a46d-4cfa-9019-1feca2cb7fa9",
   "metadata": {},
   "outputs": [
    {
     "name": "stdout",
     "output_type": "stream",
     "text": [
      "[67 30 68 90 35  3 91 33 87 36  6 15 94 91 24 56 80 86 85 44]\n",
      "3\n",
      "94\n"
     ]
    }
   ],
   "source": [
    "#4. Create an array of 20 random integers ranging from 0 to 100 and find the minimum and maximum value.\n",
    "arr3 = np.random.randint(1,100,20)\n",
    "print(arr3)\n",
    "print(np.min(arr3))\n",
    "print(np.max(arr3))"
   ]
  },
  {
   "cell_type": "code",
   "execution_count": 59,
   "id": "c3a0eaa0-cab8-4a01-b132-f21ae34f37ad",
   "metadata": {},
   "outputs": [
    {
     "name": "stdout",
     "output_type": "stream",
     "text": [
      "first array\n",
      " [[1 2 3]\n",
      " [4 5 6]\n",
      " [7 8 9]]\n",
      "second array\n",
      " [[5 6 7]\n",
      " [9 0 3]\n",
      " [1 2 8]]\n",
      "addition\n",
      " [[ 6  8 10]\n",
      " [13  5  9]\n",
      " [ 8 10 17]]\n",
      "substraction\n",
      " [[-4 -4 -4]\n",
      " [-5  5  3]\n",
      " [ 6  6  1]]\n"
     ]
    }
   ],
   "source": [
    "#5. Create two 3x3 matrices and perform matrix addition and subtraction.\n",
    "arra = np.array([[1,2,3],[4,5,6],[7,8,9]])\n",
    "arrb = np.array([[5,6,7],[9,0,3],[1,2,8]])\n",
    "print('first array\\n',arra)\n",
    "print('second array\\n',arrb)\n",
    "print('addition\\n',arra+arrb)\n",
    "print('substraction\\n',arra-arrb)"
   ]
  },
  {
   "cell_type": "code",
   "execution_count": 61,
   "id": "f0e8f343-ac40-4b8b-b633-26693a7c4cb0",
   "metadata": {},
   "outputs": [
    {
     "name": "stdout",
     "output_type": "stream",
     "text": [
      "first array\n",
      " [[5 3 4]\n",
      " [1 9 0]\n",
      " [2 1 3]]\n",
      "second array\n",
      " [[6 6 6]\n",
      " [7 7 7]\n",
      " [8 8 8]]\n",
      "Multilication\n",
      " [[30 18 24]\n",
      " [ 7 63  0]\n",
      " [16  8 24]]\n",
      "Division\n",
      " [[5 3 4]\n",
      " [1 2 0]\n",
      " [2 1 3]]\n"
     ]
    }
   ],
   "source": [
    "#6. Create two 3x3 matrices and perform matrix multiplication (both element-wise and dot product).\n",
    "arrc = np.array([[5,3,4],[1,9,0],[2,1,3]])\n",
    "arrd = np.array([[6,6,6],[7,7,7],[8,8,8]])\n",
    "print('first array\\n',arrc)\n",
    "print('second array\\n',arrd)\n",
    "print('Multilication\\n',arrc*arrd)\n",
    "print('Division\\n',arrc%arrd)"
   ]
  },
  {
   "cell_type": "code",
   "execution_count": 67,
   "id": "773ff19e-346f-459c-b5a6-89546d9c0152",
   "metadata": {},
   "outputs": [
    {
     "data": {
      "text/plain": [
       "array([[ 1,  2,  3,  4],\n",
       "       [ 5,  6,  7,  8],\n",
       "       [ 9, 10, 11, 12]])"
      ]
     },
     "execution_count": 67,
     "metadata": {},
     "output_type": "execute_result"
    }
   ],
   "source": [
    "#7. Create an array of 12 elements and reshape it into a 3x4 matrix.\n",
    "arr7 = np.arange(1,13).reshape(3,4)\n",
    "arr7"
   ]
  },
  {
   "cell_type": "code",
   "execution_count": 71,
   "id": "5ff72199-f9e5-4564-aa41-666be25cfb0a",
   "metadata": {},
   "outputs": [
    {
     "data": {
      "text/plain": [
       "array([[ 1,  2,  3],\n",
       "       [ 4,  5,  6],\n",
       "       [ 7,  8,  9],\n",
       "       [10, 11, 12]])"
      ]
     },
     "execution_count": 71,
     "metadata": {},
     "output_type": "execute_result"
    }
   ],
   "source": [
    "#8. Create an array of 12 elements and reshape it into a 4x3 matrix.\n",
    "arr8 = np.arange(1,13).reshape(4,3)\n",
    "arr8"
   ]
  },
  {
   "cell_type": "code",
   "execution_count": 75,
   "id": "0bfd9f5c-90c6-4480-a2dc-9b44c145bb6c",
   "metadata": {},
   "outputs": [
    {
     "data": {
      "text/plain": [
       "array([ 4,  5,  7, 12, 18, 23])"
      ]
     },
     "execution_count": 75,
     "metadata": {},
     "output_type": "execute_result"
    }
   ],
   "source": [
    "#9. Given an array [12, 4, 5, 23, 7, 18] sort the array in ascending order.\n",
    "arr9 = np.array( [12, 4, 5, 23, 7, 18] )\n",
    "np.sort(arr9)"
   ]
  },
  {
   "cell_type": "code",
   "execution_count": null,
   "id": "5fbebec0-67bd-454d-8db3-8333fb066cc4",
   "metadata": {},
   "outputs": [],
   "source": [
    "#10. Create an array of numbers from 0 to 50 with a step size of 5.\n",
    "arr0 = np.linspace("
   ]
  }
 ],
 "metadata": {
  "kernelspec": {
   "display_name": "Python 3 (ipykernel)",
   "language": "python",
   "name": "python3"
  },
  "language_info": {
   "codemirror_mode": {
    "name": "ipython",
    "version": 3
   },
   "file_extension": ".py",
   "mimetype": "text/x-python",
   "name": "python",
   "nbconvert_exporter": "python",
   "pygments_lexer": "ipython3",
   "version": "3.12.4"
  }
 },
 "nbformat": 4,
 "nbformat_minor": 5
}
