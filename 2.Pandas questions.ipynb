{
 "cells": [
  {
   "cell_type": "code",
   "execution_count": 1,
   "id": "36b5ff60-eb60-47e3-9a65-1bf13831a41b",
   "metadata": {},
   "outputs": [],
   "source": [
    "#importing libraries\n",
    "import numpy as np\n",
    "import pandas as pd"
   ]
  },
  {
   "cell_type": "code",
   "execution_count": 41,
   "id": "317aa8a6-fddc-4c4b-aeba-6eb50764f3f3",
   "metadata": {},
   "outputs": [
    {
     "name": "stdout",
     "output_type": "stream",
     "text": [
      "Students scored below 50\n",
      "   student Name  Math score  Science score  English score  avreage score\n",
      "2        Mayur          89             77             43      69.666667\n",
      "3       Ritesh          47             84             89      73.333333\n"
     ]
    }
   ],
   "source": [
    "#1. Create a DataFrame with columns for \"Student Name,\" \"Math Score,\" \"Science Score,\" and \"English Score.\" \n",
    "#Calculate the average score for each student. Identify students who scored below 50 in any subject.\n",
    "data = {\n",
    "    \"student Name\":['Om','Yuvraj','Mayur','Ritesh'],\n",
    "    \"Math score\":[98,60,89,47],\n",
    "    \"Science score\":[89,55,77,84],\n",
    "    \"English score\":[88,78,43,89]\n",
    "}\n",
    "df = pd.DataFrame(data)\n",
    "df[\"avreage score\"] = df[['Math score','Science score','English score']].mean(axis=1)\n",
    "df_below_50 = df[(df[\"Math score\"]<50) | (df[\"Science score\"]<50) | (df[\"English score\"]<50)]\n",
    "print(\"Students scored below 50\\n\",df_below_50)"
   ]
  },
  {
   "cell_type": "code",
   "execution_count": 85,
   "id": "15ba18ea-92f2-4b91-9950-1ef88e603e25",
   "metadata": {},
   "outputs": [
    {
     "name": "stdout",
     "output_type": "stream",
     "text": [
      "Total revenue for each porduct is Product\n",
      "A    200\n",
      "B    290\n",
      "C    150\n",
      "D     70\n",
      "Name: Revenue, dtype: int64\n"
     ]
    }
   ],
   "source": [
    "#2. Given a DataFrame with sales data, including \"Date,\" \"Product,\" \"Quantity Sold,\" and \"Revenue,\" calculate the total revenue for each product.\n",
    "data2 = {\n",
    "    \"Date\":['2024-10-01','2024-10-02','2024-10-03','2024-10-02'],\n",
    "    \"Product\":['A','B','C','D'],\n",
    "    \"Quantity Sold\":[10,29,15,7],\n",
    "    \"Revenue\":[200,290,150,70]\n",
    "}\n",
    "df = pd.DataFrame(data2)\n",
    "total_revenue = df.groupby(\"Product\")[\"Revenue\"].sum()\n",
    "print(\"Total revenue for each porduct is\",total_revenue)"
   ]
  },
  {
   "cell_type": "code",
   "execution_count": 105,
   "id": "847bd15d-4201-4657-893a-67d2c4fc6942",
   "metadata": {},
   "outputs": [
    {
     "name": "stdout",
     "output_type": "stream",
     "text": [
      "Average temperature in given cities City\n",
      "Delhi     32.0\n",
      "Mumbai    30.0\n",
      "Name: Temperature, dtype: float64\n",
      "The days with the temperature above 30\n",
      "          Date    City  Temperature  Humidity\n",
      "0  2024-08-01  Mumbai           32        65\n",
      "2  2024-08-01   Delhi           35        74\n"
     ]
    }
   ],
   "source": [
    "#3. Create a DataFrame with columns for \"Date,\" \"City,\" \"Temperature,\" and \"Humidity.\"\n",
    "#Find the average temperature for each city and identify the days when the temperature was above 30°C.\n",
    "data3 = {\n",
    "    'Date':['2024-08-01','2024-08-02','2024-08-01','2024-08-02'],\n",
    "    'City':['Mumbai','Mumbai','Delhi','Delhi'],\n",
    "    'Temperature':[32,28,35,29],\n",
    "    'Humidity':[65,70,74,78]\n",
    "}\n",
    "df = pd.DataFrame(data3)\n",
    "average_temp = df.groupby(\"City\")[\"Temperature\"].mean()\n",
    "print(\"Average temperature in given cities\",average_temp)\n",
    "above_30 = df[df[\"Temperature\"]>30]\n",
    "print(\"The days with the temperature above 30\\n\",above_30)"
   ]
  },
  {
   "cell_type": "code",
   "execution_count": 129,
   "id": "d5915173-41c0-4338-9783-85bec7c94174",
   "metadata": {},
   "outputs": [
    {
     "name": "stdout",
     "output_type": "stream",
     "text": [
      "Employee info with sorted salary\n",
      "    Employee ID Employee Name   Department  salary\n",
      "3            4     Chaitanya        sales   41000\n",
      "2            3        Ritesh    Marketing   40000\n",
      "0            1        Pratik           HR   37000\n",
      "1            2       Krishna  Engineering   36000\n"
     ]
    }
   ],
   "source": [
    "#4. Create a DataFrame with columns for \"Employee ID,\" \"Name,\" \"Age,\" \"Department,\" and \"Salary.\" Sort the DataFrame by \"Salary\" in descending order.\n",
    "data4 = {\n",
    "    \"Employee ID\":[1,2,3,4],\n",
    "    \"Employee Name\":[\"Pratik\",\"Krishna\",\"Ritesh\",\"Chaitanya\"],\n",
    "    \"Department\":[\"HR\",\"Engineering\",\"Marketing\",\"sales\"],\n",
    "    \"salary\":[37000,36000,40000,41000]\n",
    "}\n",
    "df = pd.DataFrame(data4)\n",
    "sorted_salary = df.sort_values(by= \"salary\", ascending=False)\n",
    "print(\"Employee info with sorted salary\\n\",sorted_salary)\n"
   ]
  },
  {
   "cell_type": "code",
   "execution_count": 141,
   "id": "4df52428-a536-490f-bd4f-8a860f0b094f",
   "metadata": {},
   "outputs": [
    {
     "name": "stdout",
     "output_type": "stream",
     "text": [
      "These are the columns with null value\n",
      " Index(['A', 'B'], dtype='object')\n"
     ]
    }
   ],
   "source": [
    "#5. Given a DataFrame with some missing values in various columns, identify columns with missing values.\n",
    "data5 = {\n",
    "    \"A\":[20,np.nan,12,11],\n",
    "    \"B\":[np.nan,90,7,6],\n",
    "    \"C\":[15,22,4,13]\n",
    "}\n",
    "df = pd.DataFrame(data5)\n",
    "missing_values = df.columns[df.isnull().any()]\n",
    "print(\"These are the columns with null value\\n\",missing_values)\n",
    "    "
   ]
  },
  {
   "cell_type": "code",
   "execution_count": 179,
   "id": "09c45081-2291-4b57-bb23-b324339e1368",
   "metadata": {},
   "outputs": [
    {
     "data": {
      "image/png": "[encoded data removed]",
      "text/plain": [
       "<Figure size 640x480 with 1 Axes>"
      ]
     },
     "metadata": {},
     "output_type": "display_data"
    }
   ],
   "source": [
    "#6. Given a DataFrame containing stock prices with columns \"Date,\" \"Open,\" \"Close,\" \"High,\" and \"Low,\" plot the closing prices over time.\n",
    "import matplotlib.pyplot as plt\n",
    "data6 = {\n",
    "    \"Date\":pd.date_range(start=\"2024-09-01\", periods=5),\n",
    "    \"Open\":[101,100,102,104,107],\n",
    "    \"Close\":[106,105,107,110,111],\n",
    "    \"High\":[107,106,108,111,112],\n",
    "    \"Low\":[100,99,101,103,106]\n",
    "}\n",
    "df = pd.DataFrame(data6)\n",
    "df\n",
    "plt.plot(df[\"Date\"],df[\"Close\"],marker=0)\n",
    "plt.title(\"Closing prices over time\")\n",
    "plt.xlabel(\"Date\")\n",
    "plt.ylabel(\"Price\")\n",
    "plt.show()"
   ]
  },
  {
   "cell_type": "code",
   "execution_count": 203,
   "id": "ec25398c-660e-453a-9562-aaf11d629e0c",
   "metadata": {},
   "outputs": [
    {
     "name": "stdout",
     "output_type": "stream",
     "text": [
      "Total sales for each month:\n",
      "             Sales\n",
      "Date             \n",
      "2024-10-31   9451\n"
     ]
    }
   ],
   "source": [
    "# 7. Create a DataFrame with a \"Date\" column and a \"Sales\" column containing daily sales data.\n",
    "# Resample the data to calculate the total sales for each month.\n",
    "\n",
    "#creating the dataframe\n",
    "date_range = pd.date_range(start=\"2024-10-01\", periods = 30)\n",
    "sales = np.random.randint(100,500,size=30)\n",
    "df = pd.DataFrame({\"Date\":date_range,\"Sales\":sales})\n",
    "\n",
    "#setting date as index and resampling\n",
    "df.set_index(\"Date\",inplace=True)\n",
    "monthly_sales = df.resample(\"ME\").sum()\n",
    "print(\"Total sales for each month:\\n\",monthly_sales)"
   ]
  },
  {
   "cell_type": "code",
   "execution_count": 220,
   "id": "e6651eb0-16a8-4fad-98e8-a5500d1b9fbf",
   "metadata": {},
   "outputs": [
    {
     "data": {
      "text/html": [
       "<div>\n",
       "<style scoped>\n",
       "    .dataframe tbody tr th:only-of-type {\n",
       "        vertical-align: middle;\n",
       "    }\n",
       "\n",
       "    .dataframe tbody tr th {\n",
       "        vertical-align: top;\n",
       "    }\n",
       "\n",
       "    .dataframe thead th {\n",
       "        text-align: right;\n",
       "    }\n",
       "</style>\n",
       "<table border=\"1\" class=\"dataframe\">\n",
       "  <thead>\n",
       "    <tr style=\"text-align: right;\">\n",
       "      <th></th>\n",
       "      <th>Name</th>\n",
       "      <th>Customer ID</th>\n",
       "      <th>Product</th>\n",
       "      <th>Price</th>\n",
       "    </tr>\n",
       "  </thead>\n",
       "  <tbody>\n",
       "    <tr>\n",
       "      <th>0</th>\n",
       "      <td>OM</td>\n",
       "      <td>2</td>\n",
       "      <td>Vadapav</td>\n",
       "      <td>20</td>\n",
       "    </tr>\n",
       "    <tr>\n",
       "      <th>1</th>\n",
       "      <td>OM</td>\n",
       "      <td>2</td>\n",
       "      <td>Bhajepav</td>\n",
       "      <td>25</td>\n",
       "    </tr>\n",
       "    <tr>\n",
       "      <th>2</th>\n",
       "      <td>Ganesh</td>\n",
       "      <td>3</td>\n",
       "      <td>vadapav</td>\n",
       "      <td>20</td>\n",
       "    </tr>\n",
       "    <tr>\n",
       "      <th>3</th>\n",
       "      <td>Suresh</td>\n",
       "      <td>4</td>\n",
       "      <td>Bhel</td>\n",
       "      <td>30</td>\n",
       "    </tr>\n",
       "    <tr>\n",
       "      <th>4</th>\n",
       "      <td>Ravindra</td>\n",
       "      <td>5</td>\n",
       "      <td>Misal</td>\n",
       "      <td>40</td>\n",
       "    </tr>\n",
       "  </tbody>\n",
       "</table>\n",
       "</div>"
      ],
      "text/plain": [
       "       Name  Customer ID   Product  Price\n",
       "0        OM            2   Vadapav     20\n",
       "1        OM            2  Bhajepav     25\n",
       "2    Ganesh            3   vadapav     20\n",
       "3    Suresh            4      Bhel     30\n",
       "4  Ravindra            5     Misal     40"
      ]
     },
     "execution_count": 220,
     "metadata": {},
     "output_type": "execute_result"
    }
   ],
   "source": [
    "#8. Given two DataFrames, one with customer information (Customer ID, Name) and another with order details (Customer ID, Product, Price),\n",
    "#merge the two DataFrames on \"Customer ID.\"\n",
    "\n",
    "#creating dataframes\n",
    "customer =pd.DataFrame( { \n",
    "    \"Name\":[\"OM\",\"Ganesh\",\"Suresh\",\"Ravindra\"], \n",
    "    \"Customer ID\":[2,3,4,5]\n",
    "})\n",
    "sales = pd.DataFrame({\n",
    "    \"Customer ID\":[2,2,3,4,5],\n",
    "    \"Product\":[\"Vadapav\",\"Bhajepav\",\"vadapav\",\"Bhel\",\"Misal\"],\n",
    "    \"Price\":[20,25,2030,40]\n",
    "})\n",
    "df = pd.merge(customer,sales,on=\"Customer ID\")\n",
    "df"
   ]
  },
  {
   "cell_type": "code",
   "execution_count": 223,
   "id": "9f2c36ee-a077-4f71-a84f-307ae481e23d",
   "metadata": {},
   "outputs": [
    {
     "name": "stdout",
     "output_type": "stream",
     "text": [
      "DataFrame after dropping rows:\n",
      "      A    B    C\n",
      "0  1.0  NaN  1.0\n",
      "1  NaN  2.0  2.0\n",
      "3  4.0  4.0  NaN\n"
     ]
    }
   ],
   "source": [
    "#9. Given a DataFrame with some missing values in various columns, drop any rows where more than 2 columns have missing values.\n",
    "# Creating the DataFrame\n",
    "data = {\n",
    "    \"A\": [1, np.nan, np.nan, 4],\n",
    "    \"B\": [np.nan, 2, np.nan, 4],\n",
    "    \"C\": [1, 2, np.nan, np.nan]\n",
    "}\n",
    "df = pd.DataFrame(data)\n",
    "\n",
    "# Dropping rows with more than 2 missing values\n",
    "df_dropped = df.dropna(thresh=len(df.columns) - 2)\n",
    "print(\"DataFrame after dropping rows:\\n\", df_dropped)\n"
   ]
  },
  {
   "cell_type": "code",
   "execution_count": 225,
   "id": "2331115a-5e6c-4ec7-8f71-384115a5e445",
   "metadata": {},
   "outputs": [
    {
     "name": "stdout",
     "output_type": "stream",
     "text": [
      "Number of cars from each manufacturer:\n",
      " Make\n",
      "Toyota    2\n",
      "Ford      2\n",
      "Honda     2\n",
      "Name: count, dtype: int64\n"
     ]
    }
   ],
   "source": [
    "#10. Given a DataFrame containing information about cars, \n",
    "#including \"Make,\" \"Model,\" \"Year,\" and \"Mileage,\" count the number of cars from each manufacturer.\n",
    "# Creating the DataFrame\n",
    "data = {\n",
    "    \"Make\": [\"Toyota\", \"Ford\", \"Toyota\", \"Honda\", \"Ford\", \"Honda\"],\n",
    "    \"Model\": [\"Corolla\", \"Focus\", \"Camry\", \"Civic\", \"Mustang\", \"Accord\"],\n",
    "    \"Year\": [2010, 2011, 2012, 2013, 2014, 2015],\n",
    "    \"Mileage\": [120000, 130000, 125000, 140000, 150000, 160000]\n",
    "}\n",
    "df = pd.DataFrame(data)\n",
    "\n",
    "# Counting the number of cars from each manufacturer\n",
    "car_counts = df[\"Make\"].value_counts()\n",
    "print(\"Number of cars from each manufacturer:\\n\", car_counts)\n"
   ]
  },
  {
   "cell_type": "code",
   "execution_count": null,
   "id": "3eb27f3f-0a9f-4f85-bb3a-035348f3b11a",
   "metadata": {},
   "outputs": [],
   "source": []
  }
 ],
 "metadata": {
  "kernelspec": {
   "display_name": "Python 3 (ipykernel)",
   "language": "python",
   "name": "python3"
  },
  "language_info": {
   "codemirror_mode": {
    "name": "ipython",
    "version": 3
   },
   "file_extension": ".py",
   "mimetype": "text/x-python",
   "name": "python",
   "nbconvert_exporter": "python",
   "pygments_lexer": "ipython3",
   "version": "3.12.4"
  }
 },
 "nbformat": 4,
 "nbformat_minor": 5
}
